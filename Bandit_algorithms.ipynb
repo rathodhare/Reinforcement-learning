{
  "nbformat": 4,
  "nbformat_minor": 0,
  "metadata": {
    "colab": {
      "name": "Bandit_algorithms.ipynb",
      "provenance": [],
      "collapsed_sections": []
    },
    "kernelspec": {
      "name": "python3",
      "display_name": "Python 3"
    }
  },
  "cells": [
    {
      "cell_type": "code",
      "metadata": {
        "id": "Xx2JvYfblN_q",
        "colab_type": "code",
        "colab": {}
      },
      "source": [
        "import numpy as np\n",
        "import math as math\n",
        "import sys\n",
        "K = 5 #Number of bandits\n",
        "T = 100000 #Number of tests available\n",
        "p_t = np.array([0.1, 0.1, 0.3, 0.4, 0.9]) #True parameters of bernoulli"
      ],
      "execution_count": 0,
      "outputs": []
    },
    {
      "cell_type": "code",
      "metadata": {
        "id": "EsUz73DeMiSU",
        "colab_type": "code",
        "colab": {}
      },
      "source": [
        "def argmax_of(array):\n",
        "  ans = np.array([])\n",
        "  highest = -sys.maxsize - 1\n",
        "  for i in range(0, len(array)):\n",
        "    highest = max(highest, array[i])\n",
        "  for i in range(0, len(array)):\n",
        "    if array[i] == highest:\n",
        "      ans = np.append(ans, i)\n",
        "  f_ans = int(ans[np.random.randint(0,len(ans))])\n",
        "  return f_ans "
      ],
      "execution_count": 0,
      "outputs": []
    },
    {
      "cell_type": "code",
      "metadata": {
        "id": "DOO3P_mel5Ac",
        "colab_type": "code",
        "colab": {}
      },
      "source": [
        "def posterior_sampling(p_t, K, T):\n",
        "  p_i = np.array([np.random.beta(1,1),np.random.beta(1,1),np.random.beta(1,1),np.random.beta(1,1),np.random.beta(1,1)]) #Beta prior\n",
        "  iterations = 0\n",
        "  live = np.zeros(K)\n",
        "  dead = np.zeros(K)\n",
        "  mortality_rate = np.array([1])\n",
        "  while iterations in range(T):\n",
        "    arm = argmax_of(p_i)\n",
        "    result = np.random.binomial(n=1,p=p_t[arm])\n",
        "    if result == 0:\n",
        "      dead[arm] = dead[arm] + 1\n",
        "    else:\n",
        "      live[arm] = live[arm] + 1\n",
        "    p_i[arm] = np.random.beta(1+live[arm], 1+dead[arm])\n",
        "    iterations = iterations + 1\n",
        "    total_dead = np.sum(dead)\n",
        "    mortality_rate = np.append(mortality_rate, total_dead/iterations)\n",
        "  return(np.argmax(p_i), p_i, mortality_rate)"
      ],
      "execution_count": 0,
      "outputs": []
    },
    {
      "cell_type": "code",
      "metadata": {
        "id": "sd72bwmDvyYT",
        "colab_type": "code",
        "colab": {}
      },
      "source": [
        "def optimistic_greedy(p_t, K, T):\n",
        "  rewards = np.ones(K)\n",
        "  iterations = 1\n",
        "  dead = np.zeros(K)\n",
        "  n_a = np.zeros(K)\n",
        "  mortality_rate = np.array([1])\n",
        "  while iterations in range(T):\n",
        "    arm = argmax_of(rewards)\n",
        "    n_a[arm] = n_a[arm]+1\n",
        "    result = np.random.binomial(n=1,p=p_t[arm])\n",
        "    rewards[arm] = ((rewards[arm]*(n_a[arm]) + result)/(n_a[arm]+1))\n",
        "    iterations = iterations + 1\n",
        "    dead[arm] = dead[arm] + (1-result)\n",
        "    total_dead = np.sum(dead)\n",
        "    mortality_rate = np.append(mortality_rate, total_dead/iterations)\n",
        "  return(np.argmax(rewards), rewards, mortality_rate)"
      ],
      "execution_count": 0,
      "outputs": []
    },
    {
      "cell_type": "code",
      "metadata": {
        "id": "u7rWZ52EBxKP",
        "colab_type": "code",
        "colab": {}
      },
      "source": [
        "def epsilon_greedy(p_t,K,T,e):\n",
        "  rewards = np.zeros(K)\n",
        "  iterations = 1\n",
        "  dead = np.zeros(K)\n",
        "  n_a = np.zeros(K)\n",
        "  mortality_rate = np.array([1])\n",
        "  while iterations in range(T):\n",
        "    prob = np.random.uniform(0,1)\n",
        "    if(prob<e):\n",
        "      arm = np.random.randint(0, K-1)\n",
        "    else:\n",
        "      arm = argmax_of(rewards)\n",
        "    n_a[arm] = n_a[arm]+1\n",
        "    result = np.random.binomial(n=1,p=p_t[arm])\n",
        "    rewards[arm] = ((rewards[arm]*(n_a[arm]) + result)/(n_a[arm]+1))\n",
        "    iterations = iterations + 1\n",
        "    dead[arm] = dead[arm] + (1-result)\n",
        "    total_dead = np.sum(dead)\n",
        "    mortality_rate = np.append(mortality_rate, total_dead/iterations)\n",
        "  return(np.argmax(rewards), rewards, mortality_rate)"
      ],
      "execution_count": 0,
      "outputs": []
    },
    {
      "cell_type": "code",
      "metadata": {
        "id": "sNAgInQbIk7d",
        "colab_type": "code",
        "colab": {}
      },
      "source": [
        "def Upper_conf_bound(p_t, K, T):\n",
        "  rewards = np.zeros(K)\n",
        "  iterations = 1\n",
        "  dead = np.zeros(K)\n",
        "  n_a = np.ones(K)\n",
        "  mortality_rate = np.array([1])\n",
        "  while iterations in range(K):\n",
        "    arm = iterations\n",
        "    result = np.random.binomial(n=1,p=p_t[arm])\n",
        "    rewards[arm] = result\n",
        "    iterations = iterations + 1 \n",
        "  while iterations in range(T-K):\n",
        "    arm = argmax_of(rewards)\n",
        "    n_a[arm] = n_a[arm]+1\n",
        "    result = np.random.binomial(n=1,p=p_t[arm])\n",
        "    rewards[arm] = ((rewards[arm]*(n_a[arm]) + result + math.sqrt(2*math.log(iterations)/n_a[arm]))/(n_a[arm]+1))\n",
        "    iterations = iterations + 1\n",
        "    dead[arm] = dead[arm] + (1-result)\n",
        "    total_dead = np.sum(dead)\n",
        "    mortality_rate = np.append(mortality_rate, total_dead/iterations)\n",
        "  return(np.argmax(rewards), rewards, mortality_rate)"
      ],
      "execution_count": 0,
      "outputs": []
    },
    {
      "cell_type": "code",
      "metadata": {
        "id": "HCH19pek1D1u",
        "colab_type": "code",
        "outputId": "447bdde6-4caa-4929-d273-69269ab68f3e",
        "colab": {
          "base_uri": "https://localhost:8080/",
          "height": 104
        }
      },
      "source": [
        "(PS_ans, PS_f, PS_mortality_rate) = posterior_sampling(p_t, K, T)\n",
        "(OG_ans, OG_f, OG_mortality_rate) = optimistic_greedy(p_t, K, T)\n",
        "(EG_ans, EG_f, EG_mortality_rate) = epsilon_greedy(p_t, K, T, 0.2)\n",
        "(UCB_ans, UCB_f, UCB_mortality_rate) = Upper_conf_bound(p_t, K, T)\n",
        "print(PS_ans, OG_ans, EG_ans, UCB_ans)\n",
        "print(PS_f)\n",
        "print(OG_f)\n",
        "print(EG_f)\n",
        "print(UCB_f)"
      ],
      "execution_count": 0,
      "outputs": [
        {
          "output_type": "stream",
          "text": [
            "3 4 4 2\n",
            "[0.1532266  0.03364975 0.19211334 0.40062036 0.23781737]\n",
            "[0.5        0.5        0.66666667 0.5        0.89946497]\n",
            "[0.09970209 0.10298211 0.30201342 0.4005994  0.89944659]\n",
            "[0.         0.         0.32641147 0.         0.        ]\n"
          ],
          "name": "stdout"
        }
      ]
    },
    {
      "cell_type": "code",
      "metadata": {
        "id": "JBlJm5NPowf6",
        "colab_type": "code",
        "outputId": "4982442a-77d6-4abc-ba2c-3ca4736acaae",
        "colab": {
          "base_uri": "https://localhost:8080/",
          "height": 297
        }
      },
      "source": [
        "import matplotlib.pyplot as plt\n",
        "plt.plot(PS_mortality_rate[10:100000], 'g', OG_mortality_rate[10:100000], 'r', EG_mortality_rate[10:100000], 'b', UCB_mortality_rate[10:10000], 'p')\n",
        "plt.ylabel(\"Mortality rate\")\n",
        "plt.xlabel(\"Number of patients tested on\")\n",
        "plt.show"
      ],
      "execution_count": 0,
      "outputs": [
        {
          "output_type": "execute_result",
          "data": {
            "text/plain": [
              "<function matplotlib.pyplot.show>"
            ]
          },
          "metadata": {
            "tags": []
          },
          "execution_count": 76
        },
        {
          "output_type": "display_data",
          "data": {
            "image/png": "[encoded data removed]",
            "text/plain": [
              "<Figure size 432x288 with 1 Axes>"
            ]
          },
          "metadata": {
            "tags": [],
            "needs_background": "light"
          }
        }
      ]
    },
    {
      "cell_type": "code",
      "metadata": {
        "id": "cNbkE5gPpG8t",
        "colab_type": "code",
        "colab": {}
      },
      "source": [
        ""
      ],
      "execution_count": 0,
      "outputs": []
    }
  ]
}